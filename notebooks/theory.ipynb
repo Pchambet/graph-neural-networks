{
 "cells": [
  {
   "cell_type": "markdown",
   "id": "070ae593",
   "metadata": {},
   "source": [
    "Un reseau de neurone, c'est un reseau, de neurones. Comprenons alors comment fonctionne un neurone pour comprendre fonctione le reseau ensuite.\n",
    "\n",
    "On peut arreter toute la theorie ici on disant le chose la plus importante de l'IA : le neurone n'est qu'une fonction lineaire.\n",
    "\n",
    "Au debut de votre experience dans l'IA, lors de vos premiers modele de deep learning, beaucoup de vos questions seront repondus en vous remmeorrant que le neurone est fonction lineaire. garder toujours ca en tete.\n",
    "\n",
    "\n",
    "Par contre le modele mathematique du neurone, lui, c'est different. On parle du neurone et du modele et c'est de la que vient la confusion. Donc Deuxieme chose la plus importante de l'IA : l'architecture d'un modele d'un neurone artificel est toujours la meme. toujours la meme.\n",
    "\n",
    "Voici cette architecture :\n",
    "1) un modele mathematique aui traite les donnes d'entrees\n",
    "2) une fonction d'activation\n",
    "3) une mesure de performance\n",
    "4) une optimisation de cette performance"
   ]
  },
  {
   "cell_type": "markdown",
   "id": "5054f199",
   "metadata": {},
   "source": [
    "$$\n",
    "\\begin{aligned}\n",
    "\\frac{\\partial \\mathcal{L}}{\\partial \\omega_1} & =\\frac{\\partial \\mathcal{L}}{\\partial a} \\cdot \\frac{\\partial a}{\\partial z} \\cdot \\frac{\\partial z}{\\partial w_1} \\\\\n",
    "& =\\left(-\\frac{1}{m} \\sum_i y_i \\frac{1}{a_i}+\\left(1-y_i\\right) \\times-\\frac{1}{1-a_i}\\right) \\times e^{-z}\\left(1+e^{-z}\\right)^{-2} \\times x_1 \\\\\n",
    "& =\\frac{-x_1}{m} \\sum_i\\left(\\frac{y_i}{a_i}+\\frac{\\left(y_i-1\\right)}{1-a_i}\\right) \\frac{e^{-z}}{\\left(1+e^{-z}\\right)^2} \\\\\n",
    "& =\\frac{-x_1}{m} \\sum_i\\left(\\frac{y_i-y_i a_i+a_i y_i-a_i}{a_i\\left(1-a_i\\right)}\\right) a(z) \\frac{\\left(e^{-z}+1\\right)-1}{1+e^{-z}} \\\\\n",
    "& =\\frac{-x_1}{m} \\sum_i\\left(\\frac{\\left(y_i-a_i\\right)}{a_i\\left(1-a_i\\right)}\\right) a(z) \\times(1-a(z)) \\\\\n",
    "& =\\frac{-x_1}{m} \\sum_i\\left(\\frac{\\left(y_i-a_i\\right)}{a_i\\left(1-a_i\\right)} \\times a_{i j}\\left(1-a_i\\right)\\right) \\\\\n",
    "& =-\\frac{x_1}{m} \\sum_i^m\\left(y_i-a_i\\right) \\\\\n",
    "\n",
    "De la meme maniere, :\n",
    "\n",
    "& \\Rightarrow\\left[\\frac{\\partial \\mathcal{L}}{\\partial w_2}=-\\frac{x_2}{m} \\sum_i\\left(y_i-a_{i}\\right)\\right]\n",
    "\\end{aligned}\n",
    "$$\n",
    "\n",
    "\n",
    "$$\n",
    "\\left[\\frac{\\partial \\mathcal{Z}}{\\partial u_2}=\\frac{-x_2}{m} \\sum_i\\left(y_i-\\alpha_i\\right)\\right]\n",
    "$$\n"
   ]
  },
  {
   "cell_type": "markdown",
   "id": "2e95fbeb",
   "metadata": {},
   "source": []
  },
  {
   "cell_type": "markdown",
   "id": "ec00f54f",
   "metadata": {},
   "source": []
  }
 ],
 "metadata": {
  "kernelspec": {
   "display_name": ".venv",
   "language": "python",
   "name": "python3"
  },
  "language_info": {
   "codemirror_mode": {
    "name": "ipython",
    "version": 3
   },
   "file_extension": ".py",
   "mimetype": "text/x-python",
   "name": "python",
   "nbconvert_exporter": "python",
   "pygments_lexer": "ipython3",
   "version": "3.9.6"
  }
 },
 "nbformat": 4,
 "nbformat_minor": 5
}
