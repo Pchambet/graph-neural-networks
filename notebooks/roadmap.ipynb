{
 "cells": [
  {
   "cell_type": "markdown",
   "metadata": {},
   "source": [
    "This the order of the guide :\n",
    "1. [theory_00.ipynb](./theory_00.ipynb)\n",
    "2. [practice_00.ipynb](./practice_00.ipynb)\n",
    "3. [practice_01.ipynb](./practice_01.ipynb)\n",
    "4. [theory_02.ipynb](./theory_02.ipynb)\n",
    "5. [practice_02.ipynb](./practice_02.ipynb)\n",
    "6. [practice_03.ipynb](./practice_03.ipynb)\n"
   ]
  }
 ],
 "metadata": {
  "language_info": {
   "name": "python"
  }
 },
 "nbformat": 4,
 "nbformat_minor": 2
}
