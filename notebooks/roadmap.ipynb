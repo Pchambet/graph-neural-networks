{
 "cells": [
  {
   "cell_type": "markdown",
   "metadata": {},
   "source": [
    "If you still want to waste your time, you can read this. Otherwise, turn to the next page.\n",
    "\n",
    "Details of this guide :\n",
    "\n",
    "- **Page 3** : Understanding the neuron, *theory_00.ipynb*\n",
    "\n",
    "In this part, we debunk the myth of the neuron and understand how it works. I explain the concepts in a simple way, with examples and illustrations.\n",
    "\n",
    "- **Page 19** : Can it predict a toxic / non-toxic plant, *practice_00.ipynb*\n",
    "\n",
    "We code the same neuron to predict whether a plant is toxic or not. We will also use the neuron to make predictions.\n",
    "\n",
    "- **Page 31** : Cat VS Dog, *practice_01.ipynb*\n",
    "\n",
    "Here we use the same neuron again (this little man works too much )to classify images of cats and dogs and make predictions as well.\n",
    "\n",
    "- **Page 42** : Understanding the neural network, *theory_02.ipynb*\n",
    "\n",
    "Now we debunk the myth of the neural network and understand how it works. Simple, straight to the point.\n",
    "\n",
    "- **Page 66** : Coding a two-layer neural network, *practice_02.ipynb*\n",
    "\n",
    "We code a first neural network with two layers ans see how it handles the previous datasets.\n",
    "\n",
    "- **Page 90** : Coding a multi-layer neural network, *practice_03.ipynb*\n",
    "\n",
    "They all say it’s complex. But deep down, it’s just fear talking. If you've followed along this far, you'll be blown away by how simple it really is.\n",
    "\n"
   ]
  }
 ],
 "metadata": {
  "kernelspec": {
   "display_name": "Python 3",
   "language": "python",
   "name": "python3"
  },
  "language_info": {
   "codemirror_mode": {
    "name": "ipython",
    "version": 3
   },
   "file_extension": ".py",
   "mimetype": "text/x-python",
   "name": "python",
   "nbconvert_exporter": "python",
   "pygments_lexer": "ipython3",
   "version": "3.10.4"
  }
 },
 "nbformat": 4,
 "nbformat_minor": 2
}
