{
 "cells": [
  {
   "cell_type": "markdown",
   "metadata": {},
   "source": [
    "Details of this guide :\n",
    "\n",
    "1. Understanding the neuron : **Page 3**, *theory_00.ipynb*\n",
    "2. Can it predict a toxic / non-toxic plant : **Page 18**, *practice_00.ipynb*\n",
    "3. Cat VS Dog : **Page 30**, *practice_01.ipynb*\n",
    "4. Understanding the neural network : **Page 41** *theory_02.ipynb*\n",
    "5. Coding a two-layer neural network : **Page 63**, *practice_02.ipynb*\n",
    "6. Coding The Final Boss : **Page 87**, *practice_03.ipynb*\n",
    "\n"
   ]
  }
 ],
 "metadata": {
  "language_info": {
   "name": "python"
  }
 },
 "nbformat": 4,
 "nbformat_minor": 2
}
