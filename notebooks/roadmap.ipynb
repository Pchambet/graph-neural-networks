{
 "cells": [
  {
   "cell_type": "markdown",
   "metadata": {},
   "source": [
    "This the order of the guide :\n",
    "1. [theory_00.ipynb](./notebooks/theory_00.ipynb)\n",
    "2. [practice_00.ipynb](./notebooks/practice_00.ipynb)\n",
    "3. [practice_01.ipynb](./notebooks/practice_01.ipynb)\n",
    "4. [theory_02.ipynb](./notebooks/theory_02.ipynb)\n",
    "5. [practice_02.ipynb](./notebooks/practice_02.ipynb)\n",
    "6. [practice_03.ipynb](./notebooks/practice_03.ipynb)\n",
    "\n"
   ]
  }
 ],
 "metadata": {
  "language_info": {
   "name": "python"
  }
 },
 "nbformat": 4,
 "nbformat_minor": 2
}
