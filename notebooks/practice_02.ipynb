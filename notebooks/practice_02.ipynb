{
 "cells": [
  {
   "cell_type": "markdown",
   "id": "be0a9242",
   "metadata": {},
   "source": [
    "# Practice : making a two-layer neural network"
   ]
  },
  {
   "cell_type": "code",
   "execution_count": 324,
   "id": "f9168688",
   "metadata": {},
   "outputs": [],
   "source": [
    "import numpy as np\n",
    "import matplotlib.pyplot as plt\n",
    "from sklearn.datasets import make_blobs, make_circles\n",
    "from sklearn.metrics import accuracy_score, log_loss\n",
    "from tqdm import tqdm"
   ]
  },
  {
   "cell_type": "markdown",
   "id": "86e1a49e",
   "metadata": {},
   "source": [
    "## Building a Neural Network – It's All About Structure\n",
    "\n",
    "We build a neural network the same way we built a single neuron.  \n",
    "Yes, you heard that right: **once you understand the architecture and method, you can build any neural network.**\n",
    "\n",
    "Just like with a neuron, a neural network needs a model, a cost function, a way to optimize that cost, and a method to update the model’s parameters.  \n",
    "This hasn’t changed. A neuron and a neural network both belong to the same deep learning framework.\n",
    "\n",
    "So, what do we need?\n",
    "- A function to initialize the parameters\n",
    "- A model\n",
    "- A cost function\n",
    "- An optimization rule\n",
    "\n",
    "Let’s start by reusing the exact same tools we used for a single neuron.  \n",
    "That way, we’ll clearly see what’s new when we move to a full network.\n",
    "\n",
    "### What stays the same in this case?\n",
    "\n",
    "Good news: **almost everything**.\n",
    "\n",
    "- Same architecture: `model / cost / optimization / update`\n",
    "- So same activation function\n",
    "- So same cost function\n",
    "- So same parameter update rule\n",
    "\n",
    "So, what actually changes?\n",
    "\n",
    "**The only major difference** between a single neuron and a neural network is the **concept of dimensionality**.\n",
    "\n",
    "\n",
    "### What Is Dimensionality?\n",
    "\n",
    "Dimensionality helps us **structure** the network.\n",
    "\n",
    "With just one neuron, it's too simple to talk about dimensions.  \n",
    "But with multiple layers and neurons, we need to know:\n",
    "- How many layers?\n",
    "- How many neurons per layer?\n",
    "\n",
    "### Why does this matter?\n",
    "\n",
    "Because:\n",
    "1. **Correct dimensions = valid matrix calculations.**  \n",
    "   Without this, nothing works.\n",
    "2. **Matrix operations are the language of neural networks.**  \n",
    "   They're the backbone, the skeleton of your model.\n",
    "3. **Your architecture must match your problem.**  \n",
    "   You can’t build a solution without fitting it to your data.\n",
    "\n",
    "### So... How Do We Do It?\n",
    "\n",
    "We define our network dimensions when we **initialize the parameters** — that means the **weights and biases**.\n",
    "\n",
    "Here’s the key idea:\n",
    "\n",
    "> To create a new layer in a neural network, you define a new weight matrix (and a new bias vector).\n",
    "\n",
    "> To add neurons to a layer, you change the **size** (i.e., **the dimension**) of those matrices.\n",
    "\n",
    "### Step-by-Step:\n",
    "\n",
    "- For **each layer**, you:\n",
    "  - Create a weight matrix and a bias vector\n",
    "  - Choose how many neurons it will have\n",
    "  - Make sure the shape of the matrix matches the input/output of the previous layer\n",
    "\n",
    "But there’s a catch:\n",
    "\n",
    "> Your network must **match the input dimension of your dataset**.\n",
    "\n",
    "### Example: Toxic vs. Non-Toxic Plants\n",
    "\n",
    "In the first notebook example, each plant has 2 features:\n",
    "- Leaf length\n",
    "- Leaf width\n",
    "\n",
    "So your **input data has 2 dimensions**.  \n",
    "Indeed, each plant can be represented on a 2D graph — one axis for length, one for width.\n",
    "\n",
    "That means your first layer’s **weight matrix must reflect these 2 input features**.\n",
    "\n",
    "Now, here’s something important:\n",
    "\n",
    "> Don’t get stuck on “rows vs columns.”  \n",
    "> What matters is **compatibility** between the dimensions of the input and the weight matrix.\n",
    "\n",
    "If your weight matrix has 2 rows (for 2 features) and as many columns as there are neurons — great.  \n",
    "If you did the opposite (2 columns and several rows), you could just **transpose** the matrix.\n",
    "\n",
    "> You can always flip the matrix using `.T` — it’s mathematically equivalent.  \n",
    "> If you’re unfamiliar with matrix transposition, just Google it — it’s super simple.\n",
    "\n",
    "The **shape** of your weight matrix must match:\n",
    "- The number of **input features** (to receive data from the previous layer or input),\n",
    "- The number of **neurons in the current layer** (to produce the correct output).\n",
    "\n",
    "Once you’ve chosen an orientation (e.g., rows = features, columns = neurons), **stay consistent** throughout your whole network.  \n",
    "That way, your matrix operations will work cleanly across all layers.\n",
    "\n",
    "> Consistency in dimension shapes = smooth matrix calculations = working neural network.\n",
    "\n",
    "*The **bias vector** for each layer just matches the number of neurons (columns in the weight matrix).*\n",
    "\n",
    "### Then What?\n",
    "\n",
    "For each next layer, do the same:\n",
    "- The **number of rows** in the weight matrix = number of neurons in the previous layer\n",
    "- The **number of columns** = number of neurons in the current layer\n",
    "\n",
    "Repeat this until the final layer.\n",
    "\n",
    "In the **output layer**, the number of columns equals the number of outputs you want.  \n",
    "Example: binary classification → 1 output neuron.\n",
    "\n",
    "But it depends on your problem:\n",
    "- For **multi-class classification**, you might have as many outputs as classes.\n",
    "- For **clustering**, you might have as many outputs as clusters.\n",
    "\n",
    "*(Yeah I told you you will be a data scientist by the end of this journey.)*\n",
    "\n",
    "> Key summary: proper parameter dimensions allow your layers to connect and communicate through matrix calculation — that's the true purpose of initialization.\n",
    "\n",
    "It’s not about filling with random values for fun.  \n",
    "It’s about building a **functional, adaptable architecture** that fits your problem.\n",
    "\n",
    "## If You Got This Far\n",
    "I will be honest for a sec:\\\n",
    "Congratulations — you now understand something many people struggle with for weeks. In my engineering school (im M2 data science), half of my promo don't know that. Traduction: 50% of my promo don't know what a neural network is.\\\n",
    "You’re already ahead of the game.\n",
    "\n",
    "You’re already entering an exclusive circle of people who get how deep learning really works.\n",
    "\n",
    "Let’s now see how we code all of this.\n"
   ]
  },
  {
   "cell_type": "markdown",
   "id": "b01f22c5",
   "metadata": {},
   "source": [
    "# Code"
   ]
  },
  {
   "cell_type": "markdown",
   "id": "08eb93a7",
   "metadata": {},
   "source": [
    "## DataSet"
   ]
  },
  {
   "cell_type": "markdown",
   "id": "fe166edd",
   "metadata": {},
   "source": [
    "You are a data scientist and an explorer. You discovered a new land on planet Earth. You have to survive but there are only plants. \\\n",
    "Some of your friends got sick because they ate the wrong plants. You chose to act and predict if a plant is toxic or not. You made a list of plants and you want to know if they are toxic or not. You measured the following features:\n",
    "- Leaf length\n",
    "- Leaf width\n",
    "\n",
    "You placed the plants on a 2D graph, this is what you got:"
   ]
  },
  {
   "cell_type": "code",
   "execution_count": 325,
   "id": "fb01123f",
   "metadata": {},
   "outputs": [
    {
     "name": "stdout",
     "output_type": "stream",
     "text": [
      "dimensions de X: (2, 100)\n",
      "dimensions de y: (1, 100)\n"
     ]
    },
    {
     "data": {
      "image/png": "[encoded data removed]",
      "text/plain": [
       "<Figure size 640x480 with 1 Axes>"
      ]
     },
     "metadata": {},
     "output_type": "display_data"
    }
   ],
   "source": [
    "X, y = make_circles(n_samples=100, noise=0.1, factor=0.3, random_state=0)\n",
    "X = X.T\n",
    "y = y.reshape((1, y.shape[0]))\n",
    "\n",
    "print('dimensions de X:', X.shape)\n",
    "print('dimensions de y:', y.shape)\n",
    "\n",
    "plt.scatter(X[0, :], X[1, :], c=y)\n",
    "plt.show()\n"
   ]
  },
  {
   "cell_type": "markdown",
   "id": "dd8bc693",
   "metadata": {},
   "source": [
    "We can clearly see that in this situation, a **linear model is not able to separate the two classes of data points**.  \n",
    "\n",
    "In traditional machine learning, a common approach in such cases is to use **feature engineering**—that is, creating new variables (features) from the existing ones in order to help the model separate the classes.  \n",
    "\n",
    "For example, we could create a new feature such as the **product of $x_1$ and $x_2$**, or the **square of $x_1$ or $x_2$**, in an attempt to reveal a more complex, nonlinear relationship between the variables. This would allow a linear model to make more meaningful distinctions.  \n",
    "\n",
    "However, **feature engineering is not always possible**, and it can be **time-consuming and tedious** to manually design and test new features.\n",
    "\n",
    "This is **exactly where deep learning becomes powerful**. In such cases, we can use an **artificial neural network**, which will **automatically perform its own feature engineering**.  \n",
    "Through multiple layers, the neural network will learn by itself how to transform the input space in order to **separate the two classes**—even when the relationship is nonlinear.\n",
    "\n",
    "And what's truly fascinating is that **each individual neuron in the network still performs a linear transformation**.  \n",
    "It’s the **stacking of layers** and **nonlinear activations** that gives rise to this powerful representation learning.\n",
    "\n",
    "Do you see the power of deep learning now?\n"
   ]
  },
  {
   "cell_type": "markdown",
   "id": "0e08bba7",
   "metadata": {},
   "source": [
    "## Initialization"
   ]
  },
  {
   "cell_type": "markdown",
   "id": "1f386e45",
   "metadata": {},
   "source": [
    "To make our `initialization` function accurately describe the structure of our neural network — and adapt it to the problem we want to solve — we need two things:\n",
    "1. The **dimension of the input data** (i.e., the number of input features, $n_0$ in our case)\n",
    "2. The **number of neurons we want in each layer** (i.e., the number of neurons in the first layer $n_1$, and the output layer, $n_2$)\n",
    "\n",
    "Once we provide that, we manually create the parameter matrices. That’s how we initialize the layers — and the function takes care of the rest.\n",
    "\n",
    "Let’s see how:\n"
   ]
  },
  {
   "cell_type": "code",
   "execution_count": 326,
   "id": "058451ec",
   "metadata": {},
   "outputs": [],
   "source": [
    "def initialisation(n0, n1, n2):\n",
    "    # n0 is the input dimension — number of features going into the network\n",
    "    # n1 is the number of neurons in the first (hidden) layer\n",
    "    # n2 is the output dimension — number of neurons in the output layer\n",
    "\n",
    "    # First layer: adapt to the input data\n",
    "    W1 = np.random.randn(n1, n0)  # weights from input (n0) to first layer (n1)\n",
    "    b1 = np.random.randn(n1, 1)   # bias vector for first layer (one bias per neuron)\n",
    "\n",
    "    # Second layer: adapt to the first layer\n",
    "    W2 = np.random.randn(n2, n1)  # weights from first layer (n1) to output layer (n2)\n",
    "    b2 = np.random.randn(n2, 1)   # bias vector for output layer (one bias per neuron)\n",
    "\n",
    "    # Bundle everything into a dictionary — it's cleaner and easy to manage\n",
    "    parameters = {\n",
    "        'W1': W1,\n",
    "        'b1': b1,\n",
    "        'W2': W2,\n",
    "        'b2': b2\n",
    "    }\n",
    "\n",
    "    return parameters"
   ]
  },
  {
   "cell_type": "markdown",
   "id": "d4923015",
   "metadata": {},
   "source": [
    "We want to classify the plants as either toxic or non-toxic: it is a **binary classification** problem \n",
    "\n",
    "> So we only need **one output neuron**, so $n_2 = 1$\n",
    "\n",
    "The data has 2 features: leaf length and width, so has a dimension of 2.\n",
    "\n",
    "> So we have $n_0 = 2$."
   ]
  },
  {
   "cell_type": "markdown",
   "id": "1fe367e6",
   "metadata": {},
   "source": [
    "## Forward propagation"
   ]
  },
  {
   "cell_type": "markdown",
   "id": "bf42fd70",
   "metadata": {},
   "source": [
    "You've just understood the most important function in our neural network — **initialization** — because it’s what really changes compared to a single neuron.\n",
    "\n",
    "Now, all the other functions are basically the same as for a simple neuron… except they are now **matrix-based**.  \n",
    "\n",
    "Why? Because matrix computation is the **backbone** of a neural network — and dimensions matter now.\n",
    "\n",
    "Now that we have our neural network initialized, let’s write the function that sends the input data **through the network**.  \n",
    "This is the **forward propagation** step — and its goal is to compute the activations of each neuron in each layer.\n",
    "\n",
    "We will use the same models as the neuron we built, for each neuron in each layer :\n",
    "- **Linear transformation**: $Z = W \\cdot X + b$\n",
    "- **Sigmoid Activation function** : $A = \\frac{1}{1 + e^{-Z}}$\n",
    "\n",
    "So the forward propagation is:\n",
    "\n",
    "- $Z_1 = W_1 X + b_1$\n",
    "- $A_1 = \\sigma(Z_1)$\n",
    "- $Z_2 = W_2 A_1 + b_2$\n",
    "- $A_2 = \\sigma(Z_2) = y_{pred}$\n",
    "\n",
    "where $\\sigma$ is the sigmoid activation function et $y_{pred}$ is the prediction of the model."
   ]
  },
  {
   "cell_type": "code",
   "execution_count": 327,
   "id": "66707bf6",
   "metadata": {},
   "outputs": [],
   "source": [
    "def forward_propagation(X, parameters):\n",
    "    W1 = parameters['W1']\n",
    "    b1 = parameters['b1']\n",
    "    W2 = parameters['W2']\n",
    "    b2 = parameters['b2']\n",
    "\n",
    "    # First layer\n",
    "    Z1 = W1.dot(X) + b1            # Linear transformation\n",
    "    A1 = 1 / (1 + np.exp(-Z1))     # Sigmoid activation\n",
    "\n",
    "    # Output layer\n",
    "    Z2 = W2.dot(A1) + b2           # Linear transformation\n",
    "    A2 = 1 / (1 + np.exp(-Z2))     # Sigmoid activation\n",
    "\n",
    "    activations = {\n",
    "        'A1': A1,\n",
    "        'A2': A2\n",
    "    }\n",
    "\n",
    "    return activations"
   ]
  },
  {
   "cell_type": "markdown",
   "id": "ae391016",
   "metadata": {},
   "source": [
    "We now have the activations of each neuron in each layer, stored in the `activations` dictionary.  \n",
    "- $A_1$ corresponds to the activations of the **first hidden layer** neurons (with $n_1$ neurons, so $n_1$ activations).\n",
    "- $A_2$ is the **output layer**'s activations (with $n_2$ neurons, so $n_2$ activations)."
   ]
  },
  {
   "cell_type": "markdown",
   "id": "c6f44b1f",
   "metadata": {},
   "source": [
    "## Backpropagation"
   ]
  },
  {
   "cell_type": "markdown",
   "id": "bfac9724",
   "metadata": {},
   "source": [
    "Now, we need to compute the **cost** of our neural network and optimize it to get the best parameters.\n",
    "\n",
    "Nothing new here: we will use the same cost function as before, and the same optimization rule.\n",
    "The only difference is that we will now use **matrix operations** to compute the cost and update the parameters.\n",
    "\n",
    "### Cost function\n",
    "We use the same log_loss to compute the cost of our neural network.\n",
    "\n",
    "### Optimization\n",
    "We use the same **gradient descent** algorithm to optimize our parameters.\n",
    "\n",
    "We computed the gradients of the cost function with respect to the parameters in the previous notebook theory_02.ipynb.\\\n",
    "We use these gradients to update the parameters of our neural network."
   ]
  },
  {
   "cell_type": "markdown",
   "id": "17a424ac",
   "metadata": {},
   "source": [
    "Remember that the gradients we found using the **chain rule** of calculus :\n",
    "$$\n",
    "\\left[\n",
    "\\begin{aligned}\n",
    "\\mathbf{\\frac{\\partial \\mathcal{L}}{\\partial W_2}} &= \\mathbf{\\frac{1}{m} (A_2 - y) \\cdot A_1} \\\\\n",
    "\\mathbf{\\frac{\\partial \\mathcal{L}}{\\partial b_2}} &= \\mathbf{\\frac{1}{m} \\sum_m{(A_2 - y)}} \\\\\n",
    "\\mathbf{\\frac{\\partial \\mathcal{L}}{\\partial W_1}} &= \\mathbf{\\frac{1}{m} dZ_1 \\cdot X} \\\\\n",
    "\\mathbf{\\frac{\\partial \\mathcal{L}}{\\partial b_1}} &= \\mathbf{\\frac{1}{m} \\sum_m{dZ_1}}\n",
    "\\end{aligned}\n",
    "\\right]\n",
    "$$\n",
    "With the terms:\n",
    "$$\n",
    "\\left[\n",
    "\\begin{aligned}\n",
    "\\mathbf{dZ_2} &= \\mathbf{A_2 - y} \\\\\n",
    "\\mathbf{dZ_1} &= \\mathbf{dZ_2 \\cdot W_2 \\cdot A_1 \\cdot (1 - A_1)}\n",
    "\\end{aligned}\n",
    "\\right]\n",
    "$$\n",
    "\n",
    "We are going to code this these gradients to update the parameters of our neural network.\n"
   ]
  },
  {
   "cell_type": "code",
   "execution_count": 328,
   "id": "7c8260f1",
   "metadata": {},
   "outputs": [],
   "source": [
    "from sklearn.metrics import log_loss, accuracy_score"
   ]
  },
  {
   "cell_type": "code",
   "execution_count": 329,
   "id": "0845b9a5",
   "metadata": {},
   "outputs": [],
   "source": [
    "def back_propagation(X, y, parametres, activations):\n",
    "\n",
    "    A1 = activations['A1']\n",
    "    A2 = activations['A2']\n",
    "    W2 = parametres['W2']\n",
    "\n",
    "    m = y.shape[1] # number of samples\n",
    "\n",
    "    dZ2 = A2 - y\n",
    "    dW2 = 1 / m * dZ2.dot(A1.T)\n",
    "    db2 = 1 / m * np.sum(dZ2, axis=1, keepdims = True)\n",
    "\n",
    "    dZ1 = np.dot(W2.T, dZ2) * A1 * (1 - A1)\n",
    "    dW1 = 1 / m * dZ1.dot(X.T)\n",
    "    db1 = 1 / m * np.sum(dZ1, axis=1, keepdims = True)\n",
    "\n",
    "    gradients = {\n",
    "        'dW1' : dW1,\n",
    "        'db1' : db1,\n",
    "        'dW2' : dW2,\n",
    "        'db2' : db2\n",
    "    }\n",
    "    \n",
    "    return gradients\n"
   ]
  },
  {
   "cell_type": "markdown",
   "id": "3d3879ba",
   "metadata": {},
   "source": [
    "Now that we have the gradients in the 'gradients' dictionary, we can update the parameters of our neural network using the same gradient descent algorithm as before, but in matrix form:\n",
    "$$\n",
    "W = W - \\alpha \\cdot \\frac{\\partial J}{\\partial W}$$\n",
    "$$\n",
    "b = b - \\alpha \\cdot \\frac{\\partial J}{\\partial b}\n",
    "$$\n",
    "where $\\alpha$ is the learning rate."
   ]
  },
  {
   "cell_type": "code",
   "execution_count": 330,
   "id": "d3f10869",
   "metadata": {},
   "outputs": [],
   "source": [
    "def update(gradients, parametres, learning_rate):\n",
    "\n",
    "    W1 = parametres['W1']\n",
    "    b1 = parametres['b1']\n",
    "    W2 = parametres['W2']\n",
    "    b2 = parametres['b2']\n",
    "\n",
    "    dW1 = gradients['dW1']\n",
    "    db1 = gradients['db1']\n",
    "    dW2 = gradients['dW2']\n",
    "    db2 = gradients['db2']\n",
    "\n",
    "    W1 = W1 - learning_rate * dW1\n",
    "    b1 = b1 - learning_rate * db1\n",
    "    W2 = W2 - learning_rate * dW2\n",
    "    b2 = b2 - learning_rate * db2\n",
    "\n",
    "    parametres = {\n",
    "        'W1': W1,\n",
    "        'b1': b1,\n",
    "        'W2': W2,\n",
    "        'b2': b2\n",
    "    }\n",
    "\n",
    "    return parametres\n"
   ]
  },
  {
   "cell_type": "markdown",
   "id": "a8eea5a8",
   "metadata": {},
   "source": [
    "We have the set of the new parameters, optimized a little bit more."
   ]
  },
  {
   "cell_type": "markdown",
   "id": "af7f9a23",
   "metadata": {},
   "source": [
    "To get the accuracy of our neural network (i.e., the percentage of correct predictions), we will use the same prediction function as before, but in matrix form:\n",
    "\n",
    "We need the final activations of the output layer, $A_2$, to compute the predictions, because it's the output of our neural network.\\\n",
    "We will use the same threshold as before (0.5) to classify the predictions as 0 or 1 (toxic or non-toxic)."
   ]
  },
  {
   "cell_type": "code",
   "execution_count": 331,
   "id": "3e5575dc",
   "metadata": {},
   "outputs": [],
   "source": [
    "def predict(X, parameters):\n",
    "    activations = forward_propagation(X, parameters)\n",
    "    A2 = activations['A2']\n",
    "    return A2 >= 0.5"
   ]
  },
  {
   "cell_type": "markdown",
   "id": "73b10405",
   "metadata": {},
   "source": [
    "We have everything we need to build our neural network. Let's gather all the functions in a single function that will train our neural network."
   ]
  },
  {
   "cell_type": "code",
   "execution_count": 332,
   "id": "f95e2c81",
   "metadata": {},
   "outputs": [],
   "source": [
    "from tqdm import tqdm"
   ]
  },
  {
   "cell_type": "code",
   "execution_count": 333,
   "id": "425d8454",
   "metadata": {},
   "outputs": [],
   "source": [
    "def neural_network(X, y, n1=32, learning_rate=0.1, epoch=1000):\n",
    "\n",
    "    # Get input/output dimensions\n",
    "    n0 = X.shape[0]  # number of input features\n",
    "    n2 = y.shape[0]  # number of outputs (=1 here because binary classification)\n",
    "\n",
    "    # Initialize parameters\n",
    "    np.random.seed(0)  # for reproducibility\n",
    "    parameters = initialisation(n0, n1, n2)\n",
    "\n",
    "    # Lists to track training loss and accuracy\n",
    "    train_loss = []\n",
    "    train_acc = []\n",
    "    history = []  # Store full training history (optional)\n",
    "\n",
    "    # Gradient descent loop (rela training loop)\n",
    "    for i in tqdm(range(epoch)):\n",
    "        # Forward propagation to get activations\n",
    "        activations = forward_propagation(X, parameters)\n",
    "        A2 = activations['A2']  # the target activation, the output of the network\n",
    "\n",
    "        # Compute the cost with the log_loss loss function\n",
    "        # the loss is a number, not a vector or a matrix, so we use flatten() to convert it from a 2D array to a 1D array\n",
    "        loss = log_loss(y.flatten(), A2.flatten())\n",
    "        # Store it im the training loss list for plotting\n",
    "        train_loss.append(loss)\n",
    "\n",
    "        # Predict labels using current parameters\n",
    "        y_pred = predict(X, parameters)\n",
    "\n",
    "        # Compute accuracy\n",
    "        # the accuracy is a number, not a vector or a matrix, so we use flatten() to convert it from a 2D array to a 1D array\n",
    "        accuracy = accuracy_score(y.flatten(), y_pred.flatten())\n",
    "\n",
    "        # Store it in the training accuracy list for plotting\n",
    "        train_acc.append(accuracy)\n",
    "        \n",
    "        # Save current state (optional, can be used for analysis/animation)\n",
    "        history.append([parameters.copy(), train_loss, train_acc, i])\n",
    "\n",
    "        # Backward propagation to get gradients = the direction to update the parameters\n",
    "        gradients = back_propagation(X, y, parameters, activations)\n",
    "\n",
    "        # Update parameters using gradient descent\n",
    "        parameters = update(gradients, parameters, learning_rate)\n",
    "\n",
    "    # Plot training loss and accuracy curves\n",
    "    plt.figure(figsize=(12, 4))\n",
    "\n",
    "    plt.subplot(1, 2, 1)\n",
    "    plt.plot(train_loss, label='Train Loss')\n",
    "    plt.xlabel(\"Epoch\")\n",
    "    plt.ylabel(\"Loss\")\n",
    "    plt.legend()\n",
    "\n",
    "    plt.subplot(1, 2, 2)\n",
    "    plt.plot(train_acc, label='Train Accuracy')\n",
    "    plt.xlabel(\"Epoch\")\n",
    "    plt.ylabel(\"Accuracy\")\n",
    "    plt.legend()\n",
    "\n",
    "    plt.show()\n",
    "\n",
    "    return parameters\n"
   ]
  },
  {
   "cell_type": "code",
   "execution_count": 334,
   "id": "65b161ae",
   "metadata": {},
   "outputs": [],
   "source": [
    "def plot_decision_boundary(X, y, parameters, resolution=0.01):\n",
    "    # Generate a grid of points covering the feature space\n",
    "    x_min, x_max = X[0, :].min() - 1, X[0, :].max() + 1\n",
    "    y_min, y_max = X[1, :].min() - 1, X[1, :].max() + 1\n",
    "    xx, yy = np.meshgrid(np.arange(x_min, x_max, resolution),\n",
    "                         np.arange(y_min, y_max, resolution))\n",
    "\n",
    "    # Flatten and stack the grid into shape (2, N)\n",
    "    grid = np.c_[xx.ravel(), yy.ravel()].T\n",
    "\n",
    "    # Predict class for each point in the grid\n",
    "    Z = predict(grid, parameters)\n",
    "    Z = Z.reshape(xx.shape)\n",
    "\n",
    "    # Plot decision boundary : plot all the points in the grid where y_pred == 0.5\n",
    "    plt.contourf(xx, yy, Z, alpha=0.5, cmap=plt.cm.Spectral)\n",
    "    plt.scatter(X[0, :], X[1, :], c=y.flatten(), edgecolors='k', cmap=plt.cm.Spectral)\n",
    "    plt.title(\"Decision Boundary\")\n",
    "    plt.show()\n"
   ]
  },
  {
   "cell_type": "code",
   "execution_count": 335,
   "id": "1d4988ed",
   "metadata": {},
   "outputs": [
    {
     "name": "stderr",
     "output_type": "stream",
     "text": [
      "100%|██████████| 1000/1000 [00:00<00:00, 1740.15it/s]\n"
     ]
    },
    {
     "data": {
      "image/png": "[encoded data removed]",
      "text/plain": [
       "<Figure size 1200x400 with 2 Axes>"
      ]
     },
     "metadata": {},
     "output_type": "display_data"
    }
   ],
   "source": [
    "parameters = neural_network(X, y, n1=32, learning_rate=0.1, epoch=1000)\n"
   ]
  },
  {
   "cell_type": "markdown",
   "id": "7f217653",
   "metadata": {},
   "source": [
    "### What is a Decision Boundary?\n",
    "\n",
    "If the model outputs a probability $y_{pred}$ between 0 and 1, then the **decision boundary** is the set of input points where the model is equally uncertain:\n",
    "\n",
    "$$\n",
    "y_{pred} = 0.5\n",
    "$$\n",
    "\n",
    "In other words, the decision boundary is where the neural network hesitates between predicting class 0 or class 1.\n",
    "\n",
    "In our case, we have a neural network with:\n",
    "\n",
    "- **Input layer**: size 2 (two features, $x_1$ and $x_2$)\n",
    "- **One hidden layer**: with $n_1$ neurons and sigmoid activation\n",
    "- **Output layer**: one neuron with sigmoid activation, giving a probability $y_{pred}$\n",
    "\n",
    "The forward propagation is:\n",
    "\n",
    "- $Z_1 = W_1 X + b_1$\n",
    "- $A_1 = \\sigma(Z_1)$\n",
    "- $Z_2 = W_2 A_1 + b_2$\n",
    "- $A_2 = \\sigma(Z_2) = y_{pred}$\n",
    "\n",
    "### How to Compute the Decision Boundary?\n",
    "\n",
    "To visualize the decision boundary:\n",
    "\n",
    "1. **Create a grid of input points** $(x_1, x_2)$ over the entire input space.\n",
    "2. **Compute predictions** on this grid using `forward_propagation`.\n",
    "3. **Identify points where the output is close to 0.5**, and draw the boundary.\n",
    "\n",
    "Here’s the intuition:\n",
    "- The model predicts **class 0** where $y_{pred} < 0.5$\n",
    "- The model predicts **class 1** where $y_{pred} > 0.5$\n",
    "- So the **boundary is where** $y_{pred} = 0.5$\n",
    "\n",
    "### Why is the Decision Boundary Non-Linear?\n",
    "\n",
    "Although each neuron performs a **linear operation followed by a sigmoid**, stacking layers introduces non-linearity:\n",
    "\n",
    "- The hidden layer transforms the input space non-linearly.\n",
    "- The output layer then applies another transformation.\n",
    "\n",
    "This **composition of functions** allows the neural network to bend and warp the input space, creating complex decision boundaries — even though individual layers are linear.\n",
    "\n",
    "This is what gives neural networks their **expressive power**: they **automatically perform feature engineering** by learning useful internal representations.\n",
    "\n",
    "### Summary\n",
    "\n",
    "- The decision boundary is where $y_{pred} = 0.5$\n",
    "- It can be computed by evaluating the model over a grid of inputs\n",
    "- Neural networks can learn complex, non-linear boundaries through stacked layers\n",
    "- This removes the need for manual feature engineering"
   ]
  },
  {
   "cell_type": "code",
   "execution_count": 336,
   "id": "c2d416ce",
   "metadata": {},
   "outputs": [
    {
     "data": {
      "image/png": "[encoded data removed]",
      "text/plain": [
       "<Figure size 640x480 with 1 Axes>"
      ]
     },
     "metadata": {},
     "output_type": "display_data"
    }
   ],
   "source": [
    "plot_decision_boundary(X, y, parameters)"
   ]
  }
 ],
 "metadata": {
  "kernelspec": {
   "display_name": ".venv",
   "language": "python",
   "name": "python3"
  },
  "language_info": {
   "codemirror_mode": {
    "name": "ipython",
    "version": 3
   },
   "file_extension": ".py",
   "mimetype": "text/x-python",
   "name": "python",
   "nbconvert_exporter": "python",
   "pygments_lexer": "ipython3",
   "version": "3.9.6"
  }
 },
 "nbformat": 4,
 "nbformat_minor": 5
}
