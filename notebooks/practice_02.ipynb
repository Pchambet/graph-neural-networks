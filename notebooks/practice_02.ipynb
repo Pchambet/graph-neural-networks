{
 "cells": [
  {
   "cell_type": "markdown",
   "id": "be0a9242",
   "metadata": {},
   "source": [
    "# Practice : making a two-layer neural network"
   ]
  },
  {
   "cell_type": "code",
   "execution_count": 15,
   "id": "f9168688",
   "metadata": {},
   "outputs": [],
   "source": [
    "import matplotlib.pyplot as plt\n",
    "import numpy as np"
   ]
  },
  {
   "cell_type": "code",
   "execution_count": 16,
   "id": "058451ec",
   "metadata": {},
   "outputs": [],
   "source": [
    "def initialisation(n0, n1, n2):\n",
    "    W1 = np.random.randn(n0, n1)\n",
    "    W2 = np.random.randn(n1, n2)\n",
    "    b1 = np.random.randn(n1, 1)\n",
    "    b2 = np.random.randn(n2, 1)\n",
    "\n",
    "    parameters = {\n",
    "        'W1': W1,\n",
    "        'W2': W2,\n",
    "        'b1': b1,\n",
    "        'b2': b2\n",
    "    }\n",
    "\n",
    "    return parameters"
   ]
  },
  {
   "cell_type": "code",
   "execution_count": 17,
   "id": "66707bf6",
   "metadata": {},
   "outputs": [],
   "source": [
    "def forward_propagation(X, parameters):\n",
    "    W1 = parameters['W1']\n",
    "    W2 = parameters['W2']\n",
    "    b1 = parameters['b1']\n",
    "    b2 = parameters['b2']\n",
    "\n",
    "    Z1 = np.dot(W1.T, X) + b1\n",
    "    A1 = 1 / (1 + np.exp(-Z1))\n",
    "\n",
    "    Z2 = np.dot(W2.T, A1) + b2\n",
    "    A2 = 1 / (1 + np.exp(-Z2))\n",
    "\n",
    "    activations = {\n",
    "        'A1': A1,\n",
    "        'A2': A2,\n",
    "    }\n",
    "\n",
    "    return activations"
   ]
  },
  {
   "cell_type": "code",
   "execution_count": 18,
   "id": "7c8260f1",
   "metadata": {},
   "outputs": [],
   "source": [
    "from sklearn.metrics import log_loss, accuracy_score"
   ]
  },
  {
   "cell_type": "code",
   "execution_count": 19,
   "id": "0845b9a5",
   "metadata": {},
   "outputs": [],
   "source": [
    "def back_propagation(X, y, parameters, activations):\n",
    "    W1 = parameters['W1']\n",
    "    W2 = parameters['W2']\n",
    "    b1 = parameters['b1']\n",
    "    b2 = parameters['b2']\n",
    "\n",
    "    A1 = activations['A1']\n",
    "    A2 = activations['A2']\n",
    "\n",
    "    m = y.shape[1]\n",
    "\n",
    "    dZ2 = A2 - y\n",
    "    dW2 = 1 / m * dZ2.dot(A1.T)\n",
    "    db2 = 1 / m * np.sum(dZ2, axis=1, keepdims=True)\n",
    "\n",
    "    dZ1 = W2.dot(dZ2) * A1 * (1 - A1)\n",
    "    dW1 = 1 / m * dZ1.dot(X.T)\n",
    "    db1 = 1 / m * np.sum(dZ1, axis=1, keepdims=True)\n",
    "    gradients = {\n",
    "        'dW1': dW1,\n",
    "        'dW2': dW2,\n",
    "        'db1': db1,\n",
    "        'db2': db2\n",
    "    }\n",
    "    return gradients"
   ]
  },
  {
   "cell_type": "code",
   "execution_count": 20,
   "id": "d3f10869",
   "metadata": {},
   "outputs": [],
   "source": [
    "def update(parameters, gradients, learning_rate):\n",
    "    W1 = parameters['W1']\n",
    "    W2 = parameters['W2']\n",
    "    b1 = parameters['b1']\n",
    "    b2 = parameters['b2']\n",
    "\n",
    "    dW1 = gradients['dW1']\n",
    "    dW2 = gradients['dW2']\n",
    "    db1 = gradients['db1']\n",
    "    db2 = gradients['db2']\n",
    "\n",
    "    W1 = W1 - learning_rate * dW1\n",
    "    W2 = W2 - learning_rate * dW2\n",
    "    b1 = b1 - learning_rate * db1\n",
    "    b2 = b2 - learning_rate * db2\n",
    "\n",
    "    parameters = {\n",
    "        'W1': W1,\n",
    "        'W2': W2,\n",
    "        'b1': b1,\n",
    "        'b2': b2\n",
    "    }\n",
    "\n",
    "    return parameters"
   ]
  },
  {
   "cell_type": "code",
   "execution_count": 21,
   "id": "3e5575dc",
   "metadata": {},
   "outputs": [],
   "source": [
    "def predict(X, parameters):\n",
    "    activations = forward_propagation(X, parameters)\n",
    "    A2 = activations['A2']\n",
    "    return A2 >= 0.5"
   ]
  },
  {
   "cell_type": "code",
   "execution_count": 22,
   "id": "425d8454",
   "metadata": {},
   "outputs": [],
   "source": [
    "def neural_network(X_train, y_train, n1, learning_rate, epoch):\n",
    "\n",
    "    n0 = X_train.shape[0]\n",
    "    n2 = y_train.shape[0]\n",
    "    \n",
    "    parameters = initialisation(n0, n1, n2)\n",
    "\n",
    "    train_loss = []\n",
    "    test_loss = []\n",
    "    train_accuracy = []\n",
    "    test_accuracy = []\n",
    "\n",
    "    for i in range(epoch):\n",
    "        activations = forward_propagation(X_train, parameters)\n",
    "        gradients = back_propagation(X_train, y_train, parameters, activations)\n",
    "        parameters = update(parameters, gradients, learning_rate)\n",
    "\n",
    "        if i % 100 == 0:\n",
    "            train_loss.append(log_loss(y_train, activations['A2']))\n",
    "            y_pred = predict(X_train, parameters)\n",
    "            train_accuracy.append(accuracy_score(y_train.flatten(), y_pred.flatten()))\n",
    "\n",
    "\n",
    "    plt.figure(figsize=(12, 4))\n",
    "\n",
    "    plt.subplot(1, 2, 1)\n",
    "    plt.plot(train_loss, label='train loss')\n",
    "    #plt.plot(test_loss, label='test loss')\n",
    "    plt.legend()\n",
    "    plt.subplot(1, 2, 2)\n",
    "    plt.plot(train_accuracy, label='train acc')\n",
    "    #plt.plot(test_acc, label='test acc')\n",
    "    plt.legend()\n",
    "    plt.show()\n",
    "\n",
    "    return parameters"
   ]
  },
  {
   "cell_type": "markdown",
   "id": "6c136eaf",
   "metadata": {},
   "source": [
    "# Dataset"
   ]
  },
  {
   "cell_type": "code",
   "execution_count": 23,
   "id": "36ea33c2",
   "metadata": {},
   "outputs": [],
   "source": [
    "from sklearn.datasets import make_circles"
   ]
  },
  {
   "cell_type": "code",
   "execution_count": 51,
   "id": "72c5dfde",
   "metadata": {},
   "outputs": [
    {
     "name": "stdout",
     "output_type": "stream",
     "text": [
      "dimension de X: (100, 2)\n",
      "dimension de y: (100, 1)\n"
     ]
    },
    {
     "data": {
      "image/png": "[encoded data removed]",
      "text/plain": [
       "<Figure size 640x480 with 1 Axes>"
      ]
     },
     "metadata": {},
     "output_type": "display_data"
    }
   ],
   "source": [
    "X, y = make_circles(n_samples=100, noise=0.1, random_state=0, factor=0.3)\n",
    "y = y.reshape((y.shape[0], 1))\n",
    "\n",
    "print('dimension de X:', X.shape)\n",
    "print('dimension de y:', y.shape)\n",
    "\n",
    "plt.scatter(X[:, 0], X[:, 1], c=y)\n",
    "plt.show()"
   ]
  }
 ],
 "metadata": {
  "kernelspec": {
   "display_name": ".venv",
   "language": "python",
   "name": "python3"
  },
  "language_info": {
   "codemirror_mode": {
    "name": "ipython",
    "version": 3
   },
   "file_extension": ".py",
   "mimetype": "text/x-python",
   "name": "python",
   "nbconvert_exporter": "python",
   "pygments_lexer": "ipython3",
   "version": "3.9.6"
  }
 },
 "nbformat": 4,
 "nbformat_minor": 5
}
