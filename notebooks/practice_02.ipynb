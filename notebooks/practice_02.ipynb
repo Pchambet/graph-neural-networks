{
 "cells": [
  {
   "cell_type": "markdown",
   "id": "be0a9242",
   "metadata": {},
   "source": [
    "# Practice : making a two-layer neural network"
   ]
  },
  {
   "cell_type": "code",
   "execution_count": null,
   "id": "058451ec",
   "metadata": {
    "vscode": {
     "languageId": "plaintext"
    }
   },
   "outputs": [],
   "source": [
    "def initialisation(n0, n1, n2):\n",
    "    "
   ]
  }
 ],
 "metadata": {
  "language_info": {
   "name": "python"
  }
 },
 "nbformat": 4,
 "nbformat_minor": 5
}
