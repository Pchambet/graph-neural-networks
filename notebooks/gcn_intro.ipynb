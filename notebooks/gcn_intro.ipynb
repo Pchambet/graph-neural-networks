{
 "cells": [
  {
   "cell_type": "markdown",
   "id": "4361e09d-f725-45b0-b7ff-9e2085aed207",
   "metadata": {},
   "source": [
    "Introduction notebook to the GNN Science"
   ]
  },
  {
   "cell_type": "code",
   "execution_count": null,
   "id": "f9f1f8f5-2aaa-4582-a6ee-bb9ab5d565c6",
   "metadata": {},
   "outputs": [],
   "source": []
  }
 ],
 "metadata": {
  "kernelspec": {
   "display_name": "Python 3 (ipykernel)",
   "language": "python",
   "name": "python3"
  },
  "language_info": {
   "codemirror_mode": {
    "name": "ipython",
    "version": 3
   },
   "file_extension": ".py",
   "mimetype": "text/x-python",
   "name": "python",
   "nbconvert_exporter": "python",
   "pygments_lexer": "ipython3",
   "version": "3.9.6"
  }
 },
 "nbformat": 4,
 "nbformat_minor": 5
}
