{
 "cells": [
  {
   "cell_type": "markdown",
   "id": "bff54331",
   "metadata": {},
   "source": [
    "# Introduction aux graphes et aux Graph Neural Networks (GNNs)\n",
    "\n",
    "Bienvenue dans ce notebook d'introduction !  \n",
    "Nous allons découvrir :\n",
    "\n",
    "- Ce qu’est un graphe et comment il se représente\n",
    "- Pourquoi les graphes sont différents des données classiques\n",
    "- Les cas d’usage des graphes\n",
    "- Les motivations derrière les Graph Neural Networks"
   ]
  },
  {
   "cell_type": "markdown",
   "id": "45181644",
   "metadata": {},
   "source": [
    "## Définition d’un graphe\n",
    "\n",
    "Un **graphe** est une structure composée de :\n",
    "\n",
    "- Un ensemble de **nœuds** (ou sommets), noté \\( V \\)\n",
    "- Un ensemble d’**arêtes** (ou liens), noté \\( E \\)\n",
    "\n",
    "On note souvent un graphe comme \\( G = (V, E) \\)\n"
   ]
  },
  {
   "cell_type": "markdown",
   "id": "8667e808",
   "metadata": {},
   "source": [
    "##   Types de graphes\n",
    "\n",
    "- **Dirigé** : les arêtes ont un sens (ex : Twitter)\n",
    "- **Non dirigé** : pas de sens (ex : Facebook)\n",
    "- **Pondéré** : chaque arête a un poids (ex : force d’un lien)\n",
    "- **Dynamique** : le graphe change dans le temps (ex : interactions en ligne)\n"
   ]
  },
  {
   "cell_type": "code",
   "execution_count": null,
   "id": "2546bdab",
   "metadata": {},
   "outputs": [
    {
     "name": "stdout",
     "output_type": "stream",
     "text": [
      "Requirement already satisfied: networkx in /Users/pierrechambet/Desktop/graph-neural-networks/.venv/lib/python3.9/site-packages (3.2.1)\n",
      "Requirement already satisfied: matplotlib in /Users/pierrechambet/Desktop/graph-neural-networks/.venv/lib/python3.9/site-packages (3.9.4)\n",
      "Requirement already satisfied: contourpy>=1.0.1 in /Users/pierrechambet/Desktop/graph-neural-networks/.venv/lib/python3.9/site-packages (from matplotlib) (1.3.0)\n",
      "Requirement already satisfied: cycler>=0.10 in /Users/pierrechambet/Desktop/graph-neural-networks/.venv/lib/python3.9/site-packages (from matplotlib) (0.12.1)\n",
      "Requirement already satisfied: fonttools>=4.22.0 in /Users/pierrechambet/Desktop/graph-neural-networks/.venv/lib/python3.9/site-packages (from matplotlib) (4.57.0)\n",
      "Requirement already satisfied: kiwisolver>=1.3.1 in /Users/pierrechambet/Desktop/graph-neural-networks/.venv/lib/python3.9/site-packages (from matplotlib) (1.4.7)\n",
      "Requirement already satisfied: numpy>=1.23 in /Users/pierrechambet/Desktop/graph-neural-networks/.venv/lib/python3.9/site-packages (from matplotlib) (2.0.2)\n",
      "Requirement already satisfied: packaging>=20.0 in /Users/pierrechambet/Desktop/graph-neural-networks/.venv/lib/python3.9/site-packages (from matplotlib) (24.2)\n",
      "Requirement already satisfied: pillow>=8 in /Users/pierrechambet/Desktop/graph-neural-networks/.venv/lib/python3.9/site-packages (from matplotlib) (11.2.1)\n",
      "Requirement already satisfied: pyparsing>=2.3.1 in /Users/pierrechambet/Desktop/graph-neural-networks/.venv/lib/python3.9/site-packages (from matplotlib) (3.2.3)\n",
      "Requirement already satisfied: python-dateutil>=2.7 in /Users/pierrechambet/Desktop/graph-neural-networks/.venv/lib/python3.9/site-packages (from matplotlib) (2.9.0.post0)\n",
      "Requirement already satisfied: importlib-resources>=3.2.0 in /Users/pierrechambet/Desktop/graph-neural-networks/.venv/lib/python3.9/site-packages (from matplotlib) (6.5.2)\n",
      "Requirement already satisfied: zipp>=3.1.0 in /Users/pierrechambet/Desktop/graph-neural-networks/.venv/lib/python3.9/site-packages (from importlib-resources>=3.2.0->matplotlib) (3.21.0)\n",
      "Requirement already satisfied: six>=1.5 in /Users/pierrechambet/Desktop/graph-neural-networks/.venv/lib/python3.9/site-packages (from python-dateutil>=2.7->matplotlib) (1.17.0)\n"
     ]
    },
    {
     "data": {
      "image/png": "[encoded data removed]",
      "text/plain": [
       "<Figure size 640x480 with 1 Axes>"
      ]
     },
     "metadata": {},
     "output_type": "display_data"
    }
   ],
   "source": [
    "import networkx as nx\n",
    "import matplotlib.pyplot as plt\n",
    "\n",
    "G = nx.Graph()\n",
    "G.add_edges_from([(1, 2), (1, 3), (3, 4)])\n",
    "nx.draw(G, with_labels=True, node_color=\"skyblue\", node_size=1000)\n",
    "plt.title(\"Exemple simple de graphe non dirigé\")\n",
    "plt.show()\n"
   ]
  },
  {
   "cell_type": "markdown",
   "id": "970ce436",
   "metadata": {},
   "source": [
    "## Pourquoi les graphes sont différents ?\n",
    "\n",
    "Les graphes sont **non-euclidiens** : il n’y a pas de grille régulière ni de voisinage constant. Ce ne sont pas des mots ou phrases, tableaux ou chiffres.\n",
    "\n",
    "Contrairement aux images ou tableaux :\n",
    "- Pas de structure spatiale fixe\n",
    "- Voisinage variable selon chaque nœud\n",
    "- Nécessité de nouveaux modèles adaptés à leur topologie\n"
   ]
  },
  {
   "cell_type": "markdown",
   "id": "d4ec4926",
   "metadata": {},
   "source": [
    "## Applications des graphes\n",
    "\n",
    "-  **Réseaux sociaux** : prédire des liens ou classer des utilisateurs\n",
    "-  **Molécules** : structure chimique comme un graphe\n",
    "-  **Cerveau** : connectivité entre régions\n",
    "-  **Trafic routier** : intersections = nœuds, routes = arêtes\n",
    "-  **Recommandation** : utilisateurs/produits = graphes bipartis\n"
   ]
  },
  {
   "cell_type": "markdown",
   "id": "6ebb53eb",
   "metadata": {},
   "source": [
    "##  Problèmes typiques en graphes\n",
    "\n",
    "- **Node Classification** : prédire la classe d’un nœud (ex : sujet d’un article)\n",
    "- **Link Prediction** : prédire une arête manquante (ex : recommandation d’amis)\n",
    "- **Graph Classification** : prédire une étiquette pour tout un graphe (ex : molécule toxique ?)\n",
    "- **Node Regression** : prédire une valeur numérique sur un nœud\n"
   ]
  },
  {
   "cell_type": "markdown",
   "id": "52bcb3ed",
   "metadata": {},
   "source": [
    "##   Pourquoi les méthodes classiques échouent ?\n",
    "\n",
    "- **Flatten** = perte d’information structurelle\n",
    "- **One-hot encoding** des relations ≠ topologie réelle\n",
    "- Les autres types de reseaux de neurones **CNN / RNN** sont faits pour des structures régulières (euclidiens)\n",
    "\n",
    "--> Il faut un modèle qui exploite la connectivité du graphe !\n"
   ]
  },
  {
   "cell_type": "markdown",
   "id": "2da11778",
   "metadata": {},
   "source": [
    "## Intuition des Graph Neural Networks\n",
    "\n",
    "Les GNN fonctionnent par **propagation de messages** :\n",
    "\n",
    "> Chaque nœud met à jour sa représentation en agrégant celles de ses voisins\n",
    "\n",
    "Formellement, à chaque couche, un nœud :\n",
    "1. Reçoit des **messages** de ses voisins\n",
    "2. Les **agrège** (moyenne, somme, attention...)\n",
    "3. Met à jour sa propre représentation\n",
    "\n",
    "C’est le cœur de **l’algorithme de message passing**\n"
   ]
  },
  {
   "cell_type": "markdown",
   "id": "4d2983e2",
   "metadata": {},
   "source": []
  }
 ],
 "metadata": {
  "kernelspec": {
   "display_name": ".venv",
   "language": "python",
   "name": "python3"
  },
  "language_info": {
   "codemirror_mode": {
    "name": "ipython",
    "version": 3
   },
   "file_extension": ".py",
   "mimetype": "text/x-python",
   "name": "python",
   "nbconvert_exporter": "python",
   "pygments_lexer": "ipython3",
   "version": "3.9.6"
  }
 },
 "nbformat": 4,
 "nbformat_minor": 5
}
