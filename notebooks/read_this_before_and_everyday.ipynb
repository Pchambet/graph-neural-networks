{
 "cells": [
  {
   "cell_type": "markdown",
   "id": "bc7960bb",
   "metadata": {},
   "source": [
    "## *\"The most difficult thing is the decision to act; the rest is merely tenacity\"* - *Amelia Earhart*\n",
    "\n",
    "Hello. Today, you stand before this notebook and I see a person who wants things to change. But most importantly, I see a person who is ready to take full responsibility for their actions. That's sometimes rare to find, but who said that pearls are easy to find ?\n",
    "\n",
    "Welcome to my notebook, made by a person that has asked himself the same questions you are asking yourself right now: Wtf is Deep learning ? How does that work..? like REALLY\\\n",
    "This notebook is hard. But this notebook is also a journey. A journey that will take you from the very basics of deep learning to the advanced concepts.\n",
    "\n",
    "But don't worry. No I am not a preacher saying that, I mean it. Why ? Because I am not a teacher, I'm like you. But mostly, don't worry because the most difficult thing is the decision to act. And you just took this decision; the rest is merely tenacity.\n",
    "\n",
    "So be tenacious, this notebook starts now.\n",
    "\n",
    "This notebook is composed of 2 parts:\n",
    "- **Theoretical part**: This part is composed of the theory behind deep learning. I explain the concepts in a simple way, with examples and illustrations.\n",
    "- **Practical part**: This part is composed of the practical implementation of the theory. I explain the code in a simple way, with examples and illustrations.\n",
    "\n",
    "That's it.\\\n",
    "Next step for you is **theory_00.ipynb**. So go for it, you will be amazed by what you will learn."
   ]
  },
  {
   "cell_type": "markdown",
   "id": "aa570378",
   "metadata": {},
   "source": []
  }
 ],
 "metadata": {
  "language_info": {
   "name": "python"
  }
 },
 "nbformat": 4,
 "nbformat_minor": 5
}
